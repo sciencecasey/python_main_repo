{
 "cells": [
  {
   "cell_type": "markdown",
   "metadata": {},
   "source": [
    "Trying a markdown file to do the stats in python again"
   ]
  },
  {
   "cell_type": "code",
   "execution_count": 5,
   "metadata": {},
   "outputs": [],
   "source": [
    "import statsmodels.formula.api as smf\n",
    "import pandas as pd\n",
    "import numpy as np\n",
    "import statsmodels.api as sm"
   ]
  },
  {
   "cell_type": "code",
   "execution_count": 3,
   "metadata": {},
   "outputs": [
    {
     "data": {
      "text/plain": [
       "<bound method NDFrame.head of        y   x_1    x_2    x_3    x_4    x_5    x_6    x_7    x_8    x_9    x_10\n",
       "0   19.2      0   3.85     66   9.35   5.65   2.40   3.25   0.33     19  0.065\n",
       "1   18.3      0   3.73     79  11.15   6.95   3.15   3.80   0.36     21  0.076\n",
       "2   17.1      0   3.88     73   9.40   5.75   2.10   3.65   0.40     18  0.073\n",
       "3   17.3      0   3.86     99  12.85   7.70   3.90   3.80   0.35     22  0.076\n",
       "4   16.8      0   3.98     75   8.55   5.05   2.05   3.00   0.49     12  0.060\n",
       "5   16.5      0   3.85     61  10.30   6.20   2.50   3.70   0.38     20  0.074\n",
       "6   15.8      0   3.93     66   4.90   2.75   1.20   1.55   0.29     11  0.031\n",
       "7   15.2      0   3.66     86   6.40   4.00   1.50   2.50   0.27     19  0.050\n",
       "8   15.2      0   3.91     78   5.80   3.30   1.40   1.90   0.40      9  0.038\n",
       "9   14.0      0   3.47    178   3.60   2.25   0.75   1.50   0.37      8  0.030\n",
       "10  14.0      0   3.91     81   3.90   2.15   1.00   1.15   0.32      7  0.023\n",
       "11  13.8      0   3.75    108   5.80   3.20   1.60   1.60   0.38      8  0.032\n",
       "12  13.6      0   3.90     92   5.40   2.85   1.55   1.30   0.44      6  0.026\n",
       "13  12.8      0   3.92     96   5.00   2.70   1.40   1.30   0.35      7  0.026\n",
       "14  18.5      1   3.87     89   9.15   5.60   1.95   3.65   0.46     16  0.073\n",
       "15  17.3      1   3.97     59  10.25   6.10   2.40   3.70   0.40     19  0.074\n",
       "16  16.3      1   3.76     22   8.20   5.00   1.85   3.15   0.25     25  0.063\n",
       "17  16.3      1   3.76     77   8.35   5.05   1.90   3.15   0.37     17  0.063\n",
       "18  16.0      1   3.98     58  10.15   6.00   2.60   3.40   0.38     18  0.068\n",
       "19  16.0      1   3.88     85   6.85   4.10   1.50   2.60   0.33     16  0.052\n",
       "20  15.7      1   3.75    120   8.80   5.50   1.85   3.65   0.39     19  0.073\n",
       "21  15.5      1   3.98     94   5.45   3.05   1.50   1.55   0.41      8  0.031\n",
       "22  15.3      1   3.69    122   8.00   5.05   1.90   3.15   0.27     23  0.063\n",
       "23  15.3      1   3.77    144   5.60   3.35   1.10   2.25   0.36     12  0.045\n",
       "24  14.8      1   3.74     10   7.90   4.75   1.95   2.80   0.25     23  0.056\n",
       "25  14.3      1   3.76    100   5.55   3.25   1.15   2.10   0.34     12  0.042\n",
       "26  14.3      1   3.91     73   4.65   2.70   0.95   1.75   0.36     10  0.035\n",
       "27  14.2      1   3.60    301   4.25   2.40   1.25   1.15   0.42      6  0.023\n",
       "28  14.0      1   3.76    104   8.70   5.10   2.25   2.85   0.34     17  0.057\n",
       "29  13.8      1   3.90     67   7.40   4.40   1.60   2.80   0.45     13  0.056\n",
       "30  12.5      1   3.80     89   5.35   3.15   1.20   1.95   0.32     12  0.039\n",
       "31  11.5      1   3.65    192   6.35   3.90   1.25   2.65   0.63      8  0.053>"
      ]
     },
     "execution_count": 3,
     "metadata": {},
     "output_type": "execute_result"
    }
   ],
   "source": [
    "abpath = '/Users/caseyjayne/opt/anaconda3/envs/m1_r/regression_analysis-master/linear_regression_5e_data_sets/Appendices/data-table-B19.XLS'\n",
    "wine_dat = pd.read_excel(abpath)\n",
    "wine_dat.head"
   ]
  },
  {
   "cell_type": "code",
   "execution_count": 4,
   "metadata": {},
   "outputs": [
    {
     "data": {
      "text/html": [
       "<div>\n",
       "<style scoped>\n",
       "    .dataframe tbody tr th:only-of-type {\n",
       "        vertical-align: middle;\n",
       "    }\n",
       "\n",
       "    .dataframe tbody tr th {\n",
       "        vertical-align: top;\n",
       "    }\n",
       "\n",
       "    .dataframe thead th {\n",
       "        text-align: right;\n",
       "    }\n",
       "</style>\n",
       "<table border=\"1\" class=\"dataframe\">\n",
       "  <thead>\n",
       "    <tr style=\"text-align: right;\">\n",
       "      <th></th>\n",
       "      <th>Obs</th>\n",
       "      <th>A</th>\n",
       "      <th>y</th>\n",
       "    </tr>\n",
       "  </thead>\n",
       "  <tbody>\n",
       "    <tr>\n",
       "      <th>0</th>\n",
       "      <td>1</td>\n",
       "      <td>a</td>\n",
       "      <td>12.7625</td>\n",
       "    </tr>\n",
       "    <tr>\n",
       "      <th>1</th>\n",
       "      <td>2</td>\n",
       "      <td>a</td>\n",
       "      <td>11.8850</td>\n",
       "    </tr>\n",
       "    <tr>\n",
       "      <th>2</th>\n",
       "      <td>3</td>\n",
       "      <td>a</td>\n",
       "      <td>11.9233</td>\n",
       "    </tr>\n",
       "    <tr>\n",
       "      <th>3</th>\n",
       "      <td>4</td>\n",
       "      <td>a</td>\n",
       "      <td>9.1789</td>\n",
       "    </tr>\n",
       "    <tr>\n",
       "      <th>4</th>\n",
       "      <td>5</td>\n",
       "      <td>a</td>\n",
       "      <td>0.0685</td>\n",
       "    </tr>\n",
       "  </tbody>\n",
       "</table>\n",
       "</div>"
      ],
      "text/plain": [
       "   Obs  A        y\n",
       "0    1  a  12.7625\n",
       "1    2  a  11.8850\n",
       "2    3  a  11.9233\n",
       "3    4  a   9.1789\n",
       "4    5  a   0.0685"
      ]
     },
     "execution_count": 4,
     "metadata": {},
     "output_type": "execute_result"
    }
   ],
   "source": [
    "abpath = '/Users/caseyjayne/opt/anaconda3/envs/m1_r/regression_analysis-master/test_2/Test 2 Problem 1 Data.txt'\n",
    "t1 = pd.read_table(abpath, '\\t')\n",
    "t1.head()"
   ]
  },
  {
   "cell_type": "code",
   "execution_count": 14,
   "metadata": {},
   "outputs": [
    {
     "data": {
      "text/plain": [
       "<bound method NDFrame.head of     intercept  x1  x2  x3\n",
       "0           1   1   0   0\n",
       "1           1   1   0   0\n",
       "2           1   1   0   0\n",
       "3           1   1   0   0\n",
       "4           1   1   0   0\n",
       "..        ...  ..  ..  ..\n",
       "62          1   0   0   0\n",
       "63          1   0   0   0\n",
       "64          1   0   0   0\n",
       "65          1   0   0   0\n",
       "66          1   0   0   0\n",
       "\n",
       "[67 rows x 4 columns]>"
      ]
     },
     "execution_count": 14,
     "metadata": {},
     "output_type": "execute_result"
    }
   ],
   "source": [
    "X = pd.read_csv('/Users/caseyjayne/opt/anaconda3/envs/m1_r/regression_analysis-master/test_2/x_matrix.csv')\n",
    "A = pd.read_csv('/Users/caseyjayne/opt/anaconda3/envs/m1_r/regression_analysis-master/test_2/used_data.csv')\n",
    "X.head"
   ]
  },
  {
   "cell_type": "code",
   "execution_count": 16,
   "metadata": {},
   "outputs": [
    {
     "data": {
      "text/plain": [
       "intercept    16.537787\n",
       "x1           -4.948463\n",
       "x2           -4.936720\n",
       "x3           -4.408713\n",
       "dtype: float64"
      ]
     },
     "execution_count": 16,
     "metadata": {},
     "output_type": "execute_result"
    }
   ],
   "source": [
    "model = sm.OLS(A.y, X)\n",
    "fit = model.fit()\n",
    "fit.params"
   ]
  },
  {
   "cell_type": "code",
   "execution_count": 20,
   "metadata": {},
   "outputs": [
    {
     "name": "stdout",
     "output_type": "stream",
     "text": [
      "intercept    9.521767\n",
      "x1          -2.252426\n",
      "x2          -1.894905\n",
      "x3          -1.794887\n",
      "dtype: float64\n"
     ]
    }
   ],
   "source": [
    "print(fit.tvalues)"
   ]
  },
  {
   "cell_type": "code",
   "execution_count": 28,
   "metadata": {},
   "outputs": [
    {
     "name": "stdout",
     "output_type": "stream",
     "text": [
      "                            OLS Regression Results                            \n",
      "==============================================================================\n",
      "Dep. Variable:                      y   R-squared:                       0.087\n",
      "Model:                            OLS   Adj. R-squared:                  0.043\n",
      "Method:                 Least Squares   F-statistic:                     1.990\n",
      "Date:                Wed, 13 Oct 2021   Prob (F-statistic):              0.124\n",
      "Time:                        15:58:55   Log-Likelihood:                -220.71\n",
      "No. Observations:                  67   AIC:                             449.4\n",
      "Df Residuals:                      63   BIC:                             458.2\n",
      "Df Model:                           3                                         \n",
      "Covariance Type:            nonrobust                                         \n",
      "==============================================================================\n",
      "                 coef    std err          t      P>|t|      [0.025      0.975]\n",
      "------------------------------------------------------------------------------\n",
      "intercept     16.5378      1.737      9.522      0.000      13.067      20.009\n",
      "x1            -4.9485      2.197     -2.252      0.028      -9.339      -0.558\n",
      "x2            -4.9367      2.605     -1.895      0.063     -10.143       0.269\n",
      "x3            -4.4087      2.456     -1.795      0.077      -9.317       0.500\n",
      "==============================================================================\n",
      "Omnibus:                        2.339   Durbin-Watson:                   2.512\n",
      "Prob(Omnibus):                  0.310   Jarque-Bera (JB):                2.054\n",
      "Skew:                          -0.316   Prob(JB):                        0.358\n",
      "Kurtosis:                       2.421   Cond. No.                         5.14\n",
      "==============================================================================\n",
      "\n",
      "Notes:\n",
      "[1] Standard Errors assume that the covariance matrix of the errors is correctly specified.\n"
     ]
    }
   ],
   "source": [
    "print(fit.summary())\n"
   ]
  }
 ],
 "metadata": {
  "interpreter": {
   "hash": "ae5b3a804f89b27856cc58f71c6b4db5309b378b9876536c9022528504c2e2aa"
  },
  "kernelspec": {
   "display_name": "Python 3.8.8 64-bit ('m1_python': conda)",
   "name": "python3"
  },
  "language_info": {
   "codemirror_mode": {
    "name": "ipython",
    "version": 3
   },
   "file_extension": ".py",
   "mimetype": "text/x-python",
   "name": "python",
   "nbconvert_exporter": "python",
   "pygments_lexer": "ipython3",
   "version": "3.8.8"
  },
  "orig_nbformat": 4
 },
 "nbformat": 4,
 "nbformat_minor": 2
}
