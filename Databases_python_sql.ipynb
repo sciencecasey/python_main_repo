{
 "cells": [
  {
   "cell_type": "markdown",
   "id": "947a4fca-1ff8-43fe-bb3b-82f92ba4bf37",
   "metadata": {},
   "source": [
    "## Introduction to Databases\n",
    "Relational Databases only\n",
    "MySQL, Postgres, SQLite\n",
    "\n",
    "- query languages happen in both relational and nonrelational databases\n",
    "\n",
    "### Relational databases\n",
    "- predefined relationships between contents\n",
    "- organized into tables with cols and rows in the tidy direction\n",
    "    - rows are records and should be related with cols the features/type\n",
    "- multiple tables often exist in on DB\n",
    "    - connect tables using a primary key: unique identifier that connects rows amidst disparate tables\n",
    "\n",
    "#### Creating and updating\n",
    "- updating requires \"Relational Database Management System\" RDMS\n",
    "- these us SQL language\n",
    "    - syntax changes depending which type of database we're using\n",
    "\n",
    "\n",
    "#### SQL statement\n",
    "- SELECT\\*FROM \n",
    "    - retrieves information from the data\n",
    "    \n",
    "### Non-relational databases\n",
    "- doesn't use tables/rows\n",
    "- storage may be in trees, links, JSON docs, dictionaries, graphs, etc. \n",
    "- this handles unstructured, diverse data\n",
    "- 4 types\n",
    "    - document stores like JSON or xml data\n",
    "    - each piece of data is a document that is unique and changes over time\n",
    "    - columnar databases\n",
    "        - DB organized by columns where the rows aren't related, so each row can have a different number/type of cols\n",
    "    - graph db\n",
    "        - edges are relationships between the \n",
    "- popular databases\n",
    "    - mongDB\n",
    "    - Amazon DynamoDB\n",
    "        - can't query data by anything other than the key, but one value can have more than one key\n",
    "    - Cassandra\n",
    "    - Neo4j\n",
    "- programming foundations: databases cover non-relational sets\n",
    "\n",
    "### Accessing DB in Python\n",
    "- modules may have different interactions\n",
    "- python created specs for uses: Python Database API\n",
    "    - allows code to be transferrable across db\n",
    "    - then we can use the same module style across all the python modules\n",
    "\n",
    "### Connecting to DB\n",
    "- we need a connect function that returns a connect object\n",
    "    - we can close, commit, rollback any transaction\n",
    "        - all or nothing changes in db\n",
    "- create cursor object from the connection\n",
    "    - allows us to work within the db and fetch, execute, etc. \n",
    "    - arrisize attribute that specifies the number of rows to fetch (defaults to 1)\n",
    "- each db module has constructors for the datatypes\n",
    "- when data passed to cursor methods for execution, type is detected and bound\n",
    "\n",
    "## Using SQLite in Python\n",
    "\n",
    "- light in terms of setup and resources\n",
    "- doesn't require server to run\n",
    "- databases are local with files stored on disks\n",
    "- self-contained system\n",
    "- transaction: set of queries we want to take place at once with ACID compliance\n",
    "- good way for protoyping that we can port to larger db later\n",
    "\n",
    "    "
   ]
  },
  {
   "cell_type": "code",
   "execution_count": 2,
   "id": "463d6844-051d-4d38-8a35-a0899df84136",
   "metadata": {},
   "outputs": [
    {
     "data": {
      "text/plain": [
       "<sqlite3.Cursor at 0x1112b6a40>"
      ]
     },
     "execution_count": 2,
     "metadata": {},
     "output_type": "execute_result"
    }
   ],
   "source": [
    "import sqlite3\n",
    "\n",
    "connection = sqlite3.connect('movies.db') # where to save the database or open if exists\n",
    "cursor = connection.cursor() # create cursor\n",
    "cursor.execute('''CREATE TABLE IF NOT EXISTS Movies (Title TEXT, Director TEXT, Year INT)''') "
   ]
  },
  {
   "cell_type": "code",
   "execution_count": 3,
   "id": "0331c378-2f55-45d2-8dfd-d12cc96e31e2",
   "metadata": {},
   "outputs": [],
   "source": [
    "connection.commit()\n",
    "connection.close()"
   ]
  },
  {
   "cell_type": "code",
   "execution_count": 5,
   "id": "734e017f-3433-43aa-baa3-dd367aedd2cf",
   "metadata": {},
   "outputs": [
    {
     "name": "stdout",
     "output_type": "stream",
     "text": [
      "('Taxi Driver', 'Martin Scorsese', 1976)\n"
     ]
    }
   ],
   "source": [
    "connection = sqlite3.connect('movies.db') # where to save the database\n",
    "cursor = connection.cursor()\n",
    "\n",
    "# Create \n",
    "cursor.execute(\"INSERT INTO Movies VALUES ('Taxi Driver', 'Martin Scorsese', 1976)\") #if we do this more than once adds more than once!!\n",
    "\n",
    "# retrieve\n",
    "cursor.execute(\"SELECT * FROM Movies\")\n",
    "print(cursor.fetchone()) #grab one item and print it"
   ]
  },
  {
   "cell_type": "code",
   "execution_count": 7,
   "id": "e667d9c0-a8e1-4dc8-927e-e96bb335681d",
   "metadata": {},
   "outputs": [
    {
     "name": "stdout",
     "output_type": "stream",
     "text": [
      "[('Taxi Driver', 'Martin Scorsese', 1976), ('Pulp Fiction', 'Quentin Tarantino', 1994), ('Back to the Future', 'Steven Spielberg', 1985), ('Moonrise Kingdom', 'Wes Anderson', 2012), ('Pulp Fiction', 'Quentin Tarantino', 1994), ('Back to the Future', 'Steven Spielberg', 1985), ('Moonrise Kingdom', 'Wes Anderson', 2012)]\n"
     ]
    }
   ],
   "source": [
    "famousFilms = [('Pulp Fiction', 'Quentin Tarantino', 1994), ('Back to the Future', 'Steven Spielberg', 1985), ('Moonrise Kingdom', 'Wes Anderson', 2012)]\n",
    "cursor.executemany('Insert INTO Movies VALUES (?,?,?)', famousFilms)\n",
    "\n",
    "#retreive\n",
    "# makes another object so we can iterate twice, first for the fechall and then for the print statement \n",
    "records = cursor.execute(\"SELECT * FROM Movies\") \n",
    "print(cursor.fetchall())\n",
    "\n",
    "for record in records: \n",
    "    print(record)"
   ]
  },
  {
   "cell_type": "code",
   "execution_count": 10,
   "id": "ce02247b-d43a-4a23-9d2f-37067b9d47ac",
   "metadata": {},
   "outputs": [
    {
     "name": "stdout",
     "output_type": "stream",
     "text": [
      "[('Back to the Future', 'Steven Spielberg', 1985), ('Back to the Future', 'Steven Spielberg', 1985)]\n"
     ]
    }
   ],
   "source": [
    "release_year = (1985,)\n",
    "cursor.execute(\"SELECT * FROM Movies WHERE year=?\", release_year)\n",
    "# using string makes the SQL insecure!!!! that's why we aren't doing it\n",
    "\n",
    "print(cursor.fetchall())"
   ]
  },
  {
   "cell_type": "code",
   "execution_count": 17,
   "id": "ab150779-5c66-4e13-8b75-488fcb6a91c9",
   "metadata": {},
   "outputs": [],
   "source": [
    "def delete_all_records(conn, loc):\n",
    "    \"\"\"\n",
    "    Delete all rows in the table\n",
    "    :param conn: connection to SQLite database\n",
    "    :loc: the location to delete from\n",
    "    :return:\n",
    "    \"\"\"\n",
    "    sql = \"DELETE FROM \" +loc\n",
    "    cur = conn.cursor()\n",
    "    cur.execute(sql)\n",
    "    conn.commit()"
   ]
  },
  {
   "cell_type": "code",
   "execution_count": 20,
   "id": "9f017cd4-59cd-49af-8906-744c7286df6e",
   "metadata": {},
   "outputs": [
    {
     "data": {
      "text/plain": [
       "<sqlite3.Cursor at 0x111381e30>"
      ]
     },
     "execution_count": 20,
     "metadata": {},
     "output_type": "execute_result"
    }
   ],
   "source": [
    "delete_all_records(connection, 'MOVIES')\n",
    "\n",
    "# now add our movies back in as I'd doubled them\n",
    "cursor.executemany('Insert INTO Movies VALUES (?,?,?)', famousFilms)`"
   ]
  },
  {
   "cell_type": "code",
   "execution_count": 21,
   "id": "fb8dd1a5-f138-401d-bf10-03f235c85969",
   "metadata": {},
   "outputs": [],
   "source": [
    "connection.commit()\n",
    "connection.close()"
   ]
  },
  {
   "cell_type": "markdown",
   "id": "1122d041-e132-4a3c-bc60-60e6e06c3efe",
   "metadata": {},
   "source": [
    "### SQLAlchemy\n",
    " - Allow us to work with our language of choice so we don't have to use the SQL language within our language\n",
    " - SQLAlchemy Core \n",
    "     - schhema centric view\n",
    "     - uses SQL expression language\n",
    " - and SQLAlchemy ORM\n",
    "     - object centric view \n",
    "     - maintains the consistency between the language of choice and the SQL\n",
    "     - can also use the SQL expression language during it\n",
    "     - pros: abstracts DB system simplifying interaction for python developers\n",
    "     - cons: less performant than SQL for advanced SQL users and can prevent from understanding the SQL under teh hood\n",
    "- engine allows multiple db connections and manages them itself\n",
    "    - create with sqlalchemy.create_engine and save as variable (hertofor referred to as engine)\n",
    "    - by running engine.connect() from an engine object,  we create a proxy to the python API of the database connected to the engine\n",
    "    - sqlalchemy.MetaData will retrieve all our metadata about our connection\n",
    "    - when we select something from our talbe through the connection, returns a result proxy\n",
    "        - we can use this proxy to retrieve the data\n",
    "            - fetchall() will return a result set object\n",
    "            - this is the actual data and we can interact with it as an object\n",
    "                - however, changes to this list are NOT connected to our db as it's not a query -- this is a new python object\n",
    "\n",
    " "
   ]
  },
  {
   "cell_type": "code",
   "execution_count": 23,
   "id": "f691d820-064b-4e0c-961a-77a07e163ff9",
   "metadata": {},
   "outputs": [],
   "source": [
    "# import the data from movies db\n",
    "import sqlalchemy as db\n",
    "\n",
    "engine = db.create_engine('sqlite:///movies.db')"
   ]
  },
  {
   "cell_type": "code",
   "execution_count": 38,
   "id": "43385b2e-4582-4ac6-8827-55927d8a808c",
   "metadata": {},
   "outputs": [],
   "source": [
    "connection = engine.connect()\n",
    "\n",
    "metadata = db.MetaData()\n",
    "movies = db.Table('Movies', metadata, autoload=True, autoload_with=engine)"
   ]
  },
  {
   "cell_type": "code",
   "execution_count": 39,
   "id": "d657a300-fbca-4802-8da5-1bf8e20c83ee",
   "metadata": {},
   "outputs": [],
   "source": [
    "# select all records from teh moves table\n",
    "\n",
    "query = db.select([movies]) # by making an object doesn't yet run it\n",
    "\n",
    "result_proxy = connection.execute(query)"
   ]
  },
  {
   "cell_type": "code",
   "execution_count": 40,
   "id": "3649ed64-45e8-46de-98fc-23bc212e7ec3",
   "metadata": {},
   "outputs": [
    {
     "name": "stdout",
     "output_type": "stream",
     "text": [
      "('Pulp Fiction', 'Quentin Tarantino', 1994)\n"
     ]
    }
   ],
   "source": [
    "result_set = result_proxy.fetchall()\n",
    "print(result_set[0])"
   ]
  },
  {
   "cell_type": "code",
   "execution_count": 41,
   "id": "fa3fdfec-08dc-4fc0-9823-a42e776120b9",
   "metadata": {},
   "outputs": [
    {
     "name": "stdout",
     "output_type": "stream",
     "text": [
      "<sqlalchemy.engine.cursor.LegacyCursorResult object at 0x1143fb190> [('Pulp Fiction', 'Quentin Tarantino', 1994), ('Back to the Future', 'Steven Spielberg', 1985), ('Moonrise Kingdom', 'Wes Anderson', 2012)]\n"
     ]
    }
   ],
   "source": [
    "print(result_proxy, result_set) # does changing the result set change the proxy data? "
   ]
  },
  {
   "cell_type": "code",
   "execution_count": 46,
   "id": "8a243f74-aa97-4730-a6f2-0c25ffbe9fb1",
   "metadata": {},
   "outputs": [
    {
     "name": "stdout",
     "output_type": "stream",
     "text": [
      "[('Pulp Fiction', 'Quentin Tarantino', 1994), ('Back to the Future', 'Steven Spielberg', 1985), ('Moonrise Kingdom', 'Wes Anderson', 2012), ('Psycho', 'Alfred Hitchcock', 1960)]\n"
     ]
    }
   ],
   "source": [
    "result_set[0] = ('p', 'nope', 1994)\n",
    "\n",
    "# grab all again to print\n",
    "\n",
    "query = db.select([movies])\n",
    "result_proxy = connection.execute(query)\n",
    "result_set = result_proxy.fetchall()\n",
    "print(result_set)\n",
    "\n",
    "# Doesn't change the database!!"
   ]
  },
  {
   "cell_type": "code",
   "execution_count": 44,
   "id": "ffbf83de-5b5b-4d90-966f-b24682facf6f",
   "metadata": {},
   "outputs": [
    {
     "name": "stdout",
     "output_type": "stream",
     "text": [
      "[('Moonrise Kingdom', 'Wes Anderson', 2012)]\n"
     ]
    }
   ],
   "source": [
    "query = db.select([movies]).where(movies.columns.Director==\"Wes Anderson\")\n",
    "result_proxy = connection.execute(query)\n",
    "result_set = result_proxy.fetchall()\n",
    "print(result_set)"
   ]
  },
  {
   "cell_type": "code",
   "execution_count": 45,
   "id": "3c8016af-cbe8-4c94-be3b-b584109c2368",
   "metadata": {},
   "outputs": [
    {
     "name": "stdout",
     "output_type": "stream",
     "text": [
      "[('Pulp Fiction', 'Quentin Tarantino', 1994), ('Back to the Future', 'Steven Spielberg', 1985), ('Moonrise Kingdom', 'Wes Anderson', 2012), ('Psycho', 'Alfred Hitchcock', 1960)]\n"
     ]
    }
   ],
   "source": [
    "# insert a new record\n",
    "\n",
    "query = movies.insert().values(Title='Psycho', Director='Alfred Hitchcock', Year=1960)\n",
    "connection.execute(query)\n",
    "\n",
    "# grab all again to print\n",
    "\n",
    "query = db.select([movies])\n",
    "result_proxy = connection.execute(query)\n",
    "result_set = result_proxy.fetchall()\n",
    "print(result_set)"
   ]
  },
  {
   "cell_type": "code",
   "execution_count": null,
   "id": "a126b3b9-326d-4b45-a911-0dc15c91942c",
   "metadata": {},
   "outputs": [],
   "source": []
  }
 ],
 "metadata": {
  "kernelspec": {
   "display_name": "Python 3",
   "language": "python",
   "name": "python3"
  },
  "language_info": {
   "codemirror_mode": {
    "name": "ipython",
    "version": 3
   },
   "file_extension": ".py",
   "mimetype": "text/x-python",
   "name": "python",
   "nbconvert_exporter": "python",
   "pygments_lexer": "ipython3",
   "version": "3.8.5"
  }
 },
 "nbformat": 4,
 "nbformat_minor": 5
}
